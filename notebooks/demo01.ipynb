version https://git-lfs.github.com/spec/v1
oid sha256:82b4e5e6ec2f07c2b9bf94bcf37b7721e157dfe3355db63770ffa6b21313e252
size 1082764
