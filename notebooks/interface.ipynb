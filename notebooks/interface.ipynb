version https://git-lfs.github.com/spec/v1
oid sha256:dfab168738125ecfc2bdbd526c895b7f386a3b7f4cae36204dbec28286386717
size 188425
