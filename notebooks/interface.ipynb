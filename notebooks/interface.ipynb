version https://git-lfs.github.com/spec/v1
oid sha256:3328dd9b591d9f8e70892335c8a5e426e64f91c18e056be101247ac0287ca59f
size 2545438
